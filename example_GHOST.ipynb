{
 "cells": [
  {
   "cell_type": "markdown",
   "metadata": {},
   "source": [
    "### Optimize the decision threshold using GHOST"
   ]
  },
  {
   "cell_type": "markdown",
   "metadata": {},
   "source": [
    "Import the ghostml library"
   ]
  },
  {
   "cell_type": "code",
   "execution_count": 1,
   "metadata": {},
   "outputs": [],
   "source": [
    "import ghostml"
   ]
  },
  {
   "cell_type": "markdown",
   "metadata": {},
   "source": [
    "**Function to calculate classification metrics**"
   ]
  },
  {
   "cell_type": "code",
   "execution_count": 2,
   "metadata": {},
   "outputs": [],
   "source": [
    "from sklearn import metrics\n",
    "import numpy as np\n",
    "\n",
    "def calc_metrics(labels_test, test_probs, threshold = 0.5):\n",
    "    scores = [1 if x>=threshold else 0 for x in test_probs]\n",
    "    auc = metrics.roc_auc_score(labels_test, test_probs)\n",
    "    kappa = metrics.cohen_kappa_score(labels_test,scores)\n",
    "    confusion = metrics.confusion_matrix(labels_test,scores, labels=list(set(labels_test)))\n",
    "    print('thresh: %.2f, kappa: %.3f, AUC test-set: %.3f'%(threshold, kappa, auc))\n",
    "    print(confusion)\n",
    "    print(metrics.classification_report(labels_test,scores))\n",
    "    return "
   ]
  },
  {
   "cell_type": "markdown",
   "metadata": {},
   "source": [
    "**Example**"
   ]
  },
  {
   "cell_type": "code",
   "execution_count": 3,
   "metadata": {},
   "outputs": [
    {
     "name": "stdout",
     "output_type": "stream",
     "text": [
      "thresh: 0.50, kappa: 0.247, AUC test-set: 0.836\n",
      "[[159   0]\n",
      " [ 34   7]]\n",
      "              precision    recall  f1-score   support\n",
      "\n",
      "           0       0.82      1.00      0.90       159\n",
      "           1       1.00      0.17      0.29        41\n",
      "\n",
      "    accuracy                           0.83       200\n",
      "   macro avg       0.91      0.59      0.60       200\n",
      "weighted avg       0.86      0.83      0.78       200\n",
      "\n"
     ]
    }
   ],
   "source": [
    "from sklearn.ensemble import RandomForestClassifier\n",
    "from sklearn.datasets import make_classification\n",
    "from sklearn.model_selection import train_test_split\n",
    "\n",
    "# Generate a binary imbalanced classification problem, with 80% zeros and 20% ones.\n",
    "X, y = make_classification(n_samples=1000, n_features=20,\n",
    "                           n_informative=14, n_redundant=0,\n",
    "                           random_state=0, shuffle=False, weights = [0.8, 0.2])\n",
    "\n",
    "# Train - test split\n",
    "X_train, X_test, y_train, y_test = train_test_split(X, y, test_size = 0.2, stratify = y, random_state=0)\n",
    "\n",
    "# Train a RF classifier\n",
    "cls = RandomForestClassifier(max_depth=6, oob_score=True)\n",
    "cls.fit(X_train, y_train)\n",
    "\n",
    "# Get prediction probabilities for the test set\n",
    "test_probs = cls.predict_proba(X_test)[:,1] \n",
    "\n",
    "# Print confusion matrix and classification metrics\n",
    "calc_metrics(y_test, test_probs, threshold = 0.5)"
   ]
  },
  {
   "cell_type": "markdown",
   "metadata": {},
   "source": [
    "**Optimize the decision threshold using GHOST**"
   ]
  },
  {
   "cell_type": "markdown",
   "metadata": {},
   "source": [
    "Use the Cohen's Kappa as optimization metric:"
   ]
  },
  {
   "cell_type": "code",
   "execution_count": 4,
   "metadata": {},
   "outputs": [
    {
     "name": "stdout",
     "output_type": "stream",
     "text": [
      "thresh: 0.25, kappa: 0.455, AUC test-set: 0.836\n",
      "[[132  27]\n",
      " [ 13  28]]\n",
      "              precision    recall  f1-score   support\n",
      "\n",
      "           0       0.91      0.83      0.87       159\n",
      "           1       0.51      0.68      0.58        41\n",
      "\n",
      "    accuracy                           0.80       200\n",
      "   macro avg       0.71      0.76      0.73       200\n",
      "weighted avg       0.83      0.80      0.81       200\n",
      "\n"
     ]
    }
   ],
   "source": [
    "# extract the positive prediction probabilities for the training set from the trained RF model\n",
    "train_probs = cls.predict_proba(X_train)[:,1]\n",
    "\n",
    "# optmize the threshold \n",
    "thresholds = np.round(np.arange(0.05,0.55,0.05),2)\n",
    "threshold1 = ghostml.optimize_threshold_from_predictions(y_train, train_probs, thresholds, ThOpt_metrics = 'Kappa') \n",
    "\n",
    "# Print confusion matrix and classification metrics\n",
    "calc_metrics(y_test, test_probs, threshold = threshold1)"
   ]
  },
  {
   "cell_type": "code",
   "execution_count": null,
   "metadata": {},
   "outputs": [],
   "source": []
  }
 ],
 "metadata": {
  "kernelspec": {
   "display_name": "Python 3",
   "language": "python",
   "name": "python3"
  },
  "language_info": {
   "codemirror_mode": {
    "name": "ipython",
    "version": 3
   },
   "file_extension": ".py",
   "mimetype": "text/x-python",
   "name": "python",
   "nbconvert_exporter": "python",
   "pygments_lexer": "ipython3",
   "version": "3.6.8"
  }
 },
 "nbformat": 4,
 "nbformat_minor": 4
}
